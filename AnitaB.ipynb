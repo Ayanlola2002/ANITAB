{
  "nbformat": 4,
  "nbformat_minor": 0,
  "metadata": {
    "colab": {
      "name": "AnitaB.ipynb",
      "provenance": [],
      "collapsed_sections": [],
      "include_colab_link": true
    },
    "kernelspec": {
      "name": "python3",
      "display_name": "Python 3"
    }
  },
  "cells": [
    {
      "cell_type": "markdown",
      "metadata": {
        "id": "view-in-github",
        "colab_type": "text"
      },
      "source": [
        "<a href=\"https://colab.research.google.com/github/Ayanlola2002/ANITAB/blob/master/AnitaB.ipynb\" target=\"_parent\"><img src=\"https://colab.research.google.com/assets/colab-badge.svg\" alt=\"Open In Colab\"/></a>"
      ]
    },
    {
      "cell_type": "code",
      "metadata": {
        "id": "0b6Bdc0TZOVt",
        "colab_type": "code",
        "colab": {}
      },
      "source": [
        "\"\"\"\n",
        "What is the output for this:\n",
        "\n",
        ">>> my_string = \"Hello!\"\n",
        ">>> print(my_string * 2)\n",
        "Answer 1:\n",
        ">>> print(my_string + \" I love Python\" * 2)\n",
        "\n",
        "Answer 2:\n",
        ">>> print(my_string[::-1])\n",
        "Answer 3:\n",
        ">>> my_list = [1,2,3,4,5]\n",
        ">>> print(my_list[::-1])\n",
        "\n",
        "Answer 4:\n",
        "\"\"\""
      ],
      "execution_count": 0,
      "outputs": []
    },
    {
      "cell_type": "code",
      "metadata": {
        "id": "vCRsJbAOZb-q",
        "colab_type": "code",
        "outputId": "bf18c30a-e44e-464b-8ad4-906e271353eb",
        "colab": {
          "base_uri": "https://localhost:8080/",
          "height": 34
        }
      },
      "source": [
        "#replication operator\n",
        "my_string = \"Hello!\"\n",
        "print(my_string * 2)"
      ],
      "execution_count": 0,
      "outputs": [
        {
          "output_type": "stream",
          "text": [
            "Hello!Hello!\n"
          ],
          "name": "stdout"
        }
      ]
    },
    {
      "cell_type": "code",
      "metadata": {
        "id": "xJ524BQ_ZpAl",
        "colab_type": "code",
        "outputId": "cb8214d6-0b56-4021-b1fd-e5b678a6b33f",
        "colab": {
          "base_uri": "https://localhost:8080/",
          "height": 34
        }
      },
      "source": [
        "#oncatenate and replicate operator\n",
        "print(my_string + \" I love Python\" * 2)"
      ],
      "execution_count": 0,
      "outputs": [
        {
          "output_type": "stream",
          "text": [
            "Hello! I love Python I love Python\n"
          ],
          "name": "stdout"
        }
      ]
    },
    {
      "cell_type": "code",
      "metadata": {
        "id": "c4Nx5UvdZ0NN",
        "colab_type": "code",
        "outputId": "9ed0ccd7-e870-4785-a5a6-7e7904804dce",
        "colab": {
          "base_uri": "https://localhost:8080/",
          "height": 34
        }
      },
      "source": [
        "#print the hello! word with a step from the the back\n",
        "print(my_string[::-1])"
      ],
      "execution_count": 0,
      "outputs": [
        {
          "output_type": "stream",
          "text": [
            "!olleH\n"
          ],
          "name": "stdout"
        }
      ]
    },
    {
      "cell_type": "code",
      "metadata": {
        "id": "iruNai-CakZw",
        "colab_type": "code",
        "outputId": "4a6df337-fbaf-4574-b272-73eef75e8eb0",
        "colab": {
          "base_uri": "https://localhost:8080/",
          "height": 34
        }
      },
      "source": [
        "my_list = [1,2,3,4,5]\n",
        "print(my_list[::-1])"
      ],
      "execution_count": 0,
      "outputs": [
        {
          "output_type": "stream",
          "text": [
            "[5, 4, 3, 2, 1]\n"
          ],
          "name": "stdout"
        }
      ]
    },
    {
      "cell_type": "code",
      "metadata": {
        "id": "BdlRs47vbZzr",
        "colab_type": "code",
        "outputId": "30ad30b4-a454-4f43-ef0d-47d2832ff520",
        "colab": {
          "base_uri": "https://localhost:8080/",
          "height": 119
        }
      },
      "source": [
        "# Examples of Bitwise operators\n",
        "a = 10\n",
        "b = 4\n",
        " \n",
        "# Print bitwise AND operation  \n",
        "print(a & b)\n",
        " \n",
        "# Print bitwise OR operation\n",
        "print(a | b)\n",
        " \n",
        "# Print bitwise NOT operation  \n",
        "print(~a)\n",
        " \n",
        "# print bitwise XOR operation  \n",
        "print(a ^ b)\n",
        " \n",
        "# print bitwise right shift operation  \n",
        "print(a >> 2)\n",
        " \n",
        "# print bitwise left shift operation  \n",
        "print(a << 2)"
      ],
      "execution_count": 0,
      "outputs": [
        {
          "output_type": "stream",
          "text": [
            "0\n",
            "14\n",
            "-11\n",
            "14\n",
            "2\n",
            "40\n"
          ],
          "name": "stdout"
        }
      ]
    },
    {
      "cell_type": "code",
      "metadata": {
        "id": "c2KmtUeigsVe",
        "colab_type": "code",
        "outputId": "451745d9-8472-4f23-f0b4-8276137fabf1",
        "colab": {
          "base_uri": "https://localhost:8080/",
          "height": 51
        }
      },
      "source": [
        "a=10\n",
        "b=20.54\n",
        "c=True\n",
        "d=\"I am the best\"\n",
        "#printint out the out of the varriables\n",
        "print(a,b,c,d)\n",
        "#print out the varriables datatypes\n",
        "print(type(a),type(b),type(c),type(d))"
      ],
      "execution_count": 0,
      "outputs": [
        {
          "output_type": "stream",
          "text": [
            "10 20.54 True I am the best\n",
            "<class 'int'> <class 'float'> <class 'bool'> <class 'str'>\n"
          ],
          "name": "stdout"
        }
      ]
    },
    {
      "cell_type": "code",
      "metadata": {
        "id": "bvv8f9-Jr4y1",
        "colab_type": "code",
        "colab": {
          "base_uri": "https://localhost:8080/",
          "height": 34
        },
        "outputId": "acc67eb0-0896-43a6-d53b-2da926c337dd"
      },
      "source": [
        "#list assignment\n",
        "countries=['Nigeria','ghana','Usa']\n",
        "#adding a country at the end of list\n",
        "countries.append('Israel')\n",
        "#removing a country at a particular index\n",
        "countries.pop(1)\n",
        "#add coutry at the middle\n",
        "countries.insert(1,'peru')\n",
        "countries"
      ],
      "execution_count": 5,
      "outputs": [
        {
          "output_type": "execute_result",
          "data": {
            "text/plain": [
              "['Nigeria', 'peru', 'Usa', 'Israel']"
            ]
          },
          "metadata": {
            "tags": []
          },
          "execution_count": 5
        }
      ]
    },
    {
      "cell_type": "code",
      "metadata": {
        "id": "zE2Hz025u2NZ",
        "colab_type": "code",
        "colab": {
          "base_uri": "https://localhost:8080/",
          "height": 34
        },
        "outputId": "b6482cb2-788c-4edd-8c79-9f2d071d0e25"
      },
      "source": [
        "#list assignment\n",
        "countries=set(['Nigeria','ghana','Usa'])\n",
        "#adding a country at the end of list\n",
        "countries.add('Israel')\n",
        "#removing a country at a particular index\n",
        "countries.pop()\n",
        "#add coutry at the middle\n",
        "countries.add('peru')\n",
        "countries"
      ],
      "execution_count": 9,
      "outputs": [
        {
          "output_type": "execute_result",
          "data": {
            "text/plain": [
              "{'Nigeria', 'Usa', 'ghana', 'peru'}"
            ]
          },
          "metadata": {
            "tags": []
          },
          "execution_count": 9
        }
      ]
    }
  ]
}